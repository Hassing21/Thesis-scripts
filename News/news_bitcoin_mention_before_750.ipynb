{
 "cells": [
  {
   "cell_type": "code",
   "execution_count": 2,
   "id": "bba509a4",
   "metadata": {},
   "outputs": [
    {
     "name": "stdout",
     "output_type": "stream",
     "text": [
      "✔️ Færdig!\n",
      "👉 Filtreret datasæt gemt som: C:\\Users\\Kasper Hassing\\Desktop\\Speciale_KryptoSentiment\\data\\news_data\\bitcoin_news_filtered_750.csv\n",
      "📄 Artikler beholdt: 9946 / 20257 (49.10%)\n"
     ]
    }
   ],
   "source": [
    "import pandas as pd\n",
    "\n",
    "# 🔹 1. Indlæs datasæt\n",
    "input_path = r\"C:\\Users\\Kasper Hassing\\Desktop\\Speciale_KryptoSentiment\\data\\news_data\\bitcoin_news_vader_finbert_full_01.csv\"\n",
    "df = pd.read_csv(input_path)\n",
    "\n",
    "# 🔹 2. Funktion til at finde positionen af \"bitcoin\" i teksten\n",
    "def bitcoin_pos(text):\n",
    "    if pd.isnull(text):\n",
    "        return -1\n",
    "    return str(text).lower().find(\"bitcoin\")\n",
    "\n",
    "# 🔹 3. Beregn position og gem som ny kolonne\n",
    "df[\"bitcoin_pos\"] = df[\"article_text\"].apply(bitcoin_pos)\n",
    "\n",
    "# 🔹 4. Filtrér: behold kun artikler hvor bitcoin nævnes tidligt (<= 750 tegn)\n",
    "df_filtered = df[(df[\"bitcoin_pos\"] >= 0) & (df[\"bitcoin_pos\"] <= 750)].copy()\n",
    "\n",
    "# 🔹 5. Gem det filtrerede datasæt\n",
    "output_path = r\"C:\\Users\\Kasper Hassing\\Desktop\\Speciale_KryptoSentiment\\data\\news_data\\bitcoin_news_filtered_750.csv\"\n",
    "df_filtered.to_csv(output_path, index=False)\n",
    "\n",
    "# 🔹 6. Feedback til dig\n",
    "original_count = len(df)\n",
    "filtered_count = len(df_filtered)\n",
    "share = filtered_count / original_count * 100\n",
    "\n",
    "print(f\"✔️ Færdig!\")\n",
    "print(f\"👉 Filtreret datasæt gemt som: {output_path}\")\n",
    "print(f\"📄 Artikler beholdt: {filtered_count} / {original_count} ({share:.2f}%)\")\n"
   ]
  }
 ],
 "metadata": {
  "kernelspec": {
   "display_name": "tf_env",
   "language": "python",
   "name": "python3"
  },
  "language_info": {
   "codemirror_mode": {
    "name": "ipython",
    "version": 3
   },
   "file_extension": ".py",
   "mimetype": "text/x-python",
   "name": "python",
   "nbconvert_exporter": "python",
   "pygments_lexer": "ipython3",
   "version": "3.10.16"
  }
 },
 "nbformat": 4,
 "nbformat_minor": 5
}
