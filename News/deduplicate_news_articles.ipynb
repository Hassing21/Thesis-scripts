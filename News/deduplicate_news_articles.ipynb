{
 "cells": [
  {
   "cell_type": "code",
   "execution_count": null,
   "id": "283123a0",
   "metadata": {},
   "outputs": [
    {
     "name": "stdout",
     "output_type": "stream",
     "text": [
      "📥 Indlæser dataset...\n",
      "🔢 Før: 29,525 artikler\n",
      "🧹 Fjerner dubletter baseret på: title...\n"
     ]
    },
    {
     "name": "stderr",
     "output_type": "stream",
     "text": [
      "🔄 Behandler: 100%|██████████| 29525/29525 [00:00<00:00, 4216726.56it/s]"
     ]
    },
    {
     "name": "stdout",
     "output_type": "stream",
     "text": [
      "✅ Efter: 28,141 artikler\n",
      "❌ Fjernet: 1,384 dubletter (4.69%)\n"
     ]
    },
    {
     "name": "stderr",
     "output_type": "stream",
     "text": [
      "\n"
     ]
    },
    {
     "name": "stdout",
     "output_type": "stream",
     "text": [
      "💾 Gemt til: C:\\Users\\Kasper Hassing\\Desktop\\Speciale_KryptoSentiment\\data\\news_data\\bitcoin_news_timerange_filtered_deduplicated.csv\n"
     ]
    }
   ],
   "source": [
    "import pandas as pd\n",
    "from tqdm import tqdm\n",
    "\n",
    "# === Konfiguration ===\n",
    "input_path = r\"C:\\Users\\Kasper Hassing\\Desktop\\Speciale_KryptoSentiment\\data\\news_data\\bitcoin_news_timerange_filtered.csv\"\n",
    "output_path = r\"C:\\Users\\Kasper Hassing\\Desktop\\Speciale_KryptoSentiment\\data\\news_data\\bitcoin_news_timerange_filtered_deduplicated.csv\"\n",
    "\n",
    "# Brug kun 'title' som duplikat-check (True), eller både 'title' og 'article_text' (False)\n",
    "filter_on_title_only = True\n",
    "\n",
    "# === Indlæs dataset ===\n",
    "print(\"📥 Indlæser dataset...\")\n",
    "df = pd.read_csv(input_path)\n",
    "original_count = len(df)\n",
    "print(f\"🔢 Før: {original_count:,} artikler\")\n",
    "\n",
    "# === Vælg kolonner til duplikatkontrol ===\n",
    "if filter_on_title_only:\n",
    "    subset_cols = ['title']\n",
    "else:\n",
    "    subset_cols = ['title', 'article_text']\n",
    "\n",
    "# === Fjern dubletter ===\n",
    "print(f\"Fjerner dubletter: {', '.join(subset_cols)}...\")\n",
    "tqdm.pandas()\n",
    "df['dup_flag'] = df.duplicated(subset=subset_cols, keep='first')\n",
    "df['progress'] = range(len(df))  # Simuleret progress\n",
    "for _ in tqdm(range(len(df)), desc=\"🔄 Behandler\"):\n",
    "    pass\n",
    "\n",
    "df_cleaned = df[~df['dup_flag']].drop(columns=['dup_flag', 'progress'])\n",
    "deduplicated_count = len(df_cleaned)\n",
    "removed = original_count - deduplicated_count\n",
    "\n",
    "\n",
    "# === Gem resultat ===\n",
    "df_cleaned.to_csv(output_path, index=False)\n",
    "print(f\"💾 Gemt til: {output_path}\")\n"
   ]
  }
 ],
 "metadata": {
  "kernelspec": {
   "display_name": "tf_env",
   "language": "python",
   "name": "python3"
  },
  "language_info": {
   "codemirror_mode": {
    "name": "ipython",
    "version": 3
   },
   "file_extension": ".py",
   "mimetype": "text/x-python",
   "name": "python",
   "nbconvert_exporter": "python",
   "pygments_lexer": "ipython3",
   "version": "3.10.16"
  }
 },
 "nbformat": 4,
 "nbformat_minor": 5
}
