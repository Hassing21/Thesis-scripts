{
 "cells": [
  {
   "cell_type": "code",
   "execution_count": 2,
   "id": "963f24f6",
   "metadata": {},
   "outputs": [
    {
     "name": "stdout",
     "output_type": "stream",
     "text": [
      "         date  vader_article_score  finbert_index_score  \\\n",
      "0  2021-01-01                 0.25                 0.45   \n",
      "1  2021-01-02                 0.55                 0.65   \n",
      "2  2021-01-03                 0.75                 0.85   \n",
      "3  2021-01-04                 0.95                 1.05   \n",
      "\n",
      "   finbert_updated_score  vader_article_score_z  finbert_index_score_z  \\\n",
      "0                   0.65              -1.255828              -1.161895   \n",
      "1                   0.85              -0.251166              -0.387298   \n",
      "2                   1.05               0.418609               0.387298   \n",
      "3                   1.25               1.088384               1.161895   \n",
      "\n",
      "   finbert_updated_score_z  \n",
      "0                -1.161895  \n",
      "1                -0.387298  \n",
      "2                 0.387298  \n",
      "3                 1.161895  \n"
     ]
    }
   ],
   "source": [
    "import pandas as pd\n",
    "\n",
    "# Indlæs data fra den angivne filsti\n",
    "df = pd.read_csv(r\"C:\\Users\\Kasper Hassing\\Downloads\\test_bitcoin_scores.csv\")\n",
    "\n",
    "# Konverter 'date_time' til datetime format\n",
    "df['date_time'] = pd.to_datetime(df['date_time'])\n",
    "\n",
    "# Ekstraher datoen fra 'date_time' kolonnen\n",
    "df['date'] = df['date_time'].dt.date\n",
    "\n",
    "# Beregn gennemsnit for hver dato\n",
    "df_grouped = df.groupby('date').agg({\n",
    "    'vader_article_score': 'mean',\n",
    "    'finbert_index_score': 'mean',\n",
    "    'finbert_updated_score': 'mean'\n",
    "}).reset_index()\n",
    "\n",
    "# Beregn Z-score for hver af sentiment-scores\n",
    "df_grouped['vader_article_score_z'] = (df_grouped['vader_article_score'] - df_grouped['vader_article_score'].mean()) / df_grouped['vader_article_score'].std()\n",
    "df_grouped['finbert_index_score_z'] = (df_grouped['finbert_index_score'] - df_grouped['finbert_index_score'].mean()) / df_grouped['finbert_index_score'].std()\n",
    "df_grouped['finbert_updated_score_z'] = (df_grouped['finbert_updated_score'] - df_grouped['finbert_updated_score'].mean()) / df_grouped['finbert_updated_score'].std()\n",
    "\n",
    "# Gem den aggregerede dataframe som en ny CSV-fil\n",
    "df_grouped.to_csv(r\"C:\\Users\\Kasper Hassing\\Downloads\\test_bitcoin_scores_udregnet.csv\", index=False)\n",
    "\n",
    "# Vis resultatet i terminalen\n",
    "print(df_grouped.head())\n"
   ]
  }
 ],
 "metadata": {
  "kernelspec": {
   "display_name": "tf_env",
   "language": "python",
   "name": "python3"
  },
  "language_info": {
   "codemirror_mode": {
    "name": "ipython",
    "version": 3
   },
   "file_extension": ".py",
   "mimetype": "text/x-python",
   "name": "python",
   "nbconvert_exporter": "python",
   "pygments_lexer": "ipython3",
   "version": "3.10.16"
  }
 },
 "nbformat": 4,
 "nbformat_minor": 5
}
