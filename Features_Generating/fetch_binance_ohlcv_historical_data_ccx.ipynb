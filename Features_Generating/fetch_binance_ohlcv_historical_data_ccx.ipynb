{
 "cells": [
  {
   "cell_type": "code",
   "execution_count": null,
   "metadata": {},
   "outputs": [
    {
     "name": "stderr",
     "output_type": "stream",
     "text": [
      "INFO:root:Henter data for BTC/USDT fra 2020-12-01 00:00:00...\n",
      "INFO:root:Første dato i datasæt: 2020-12-01 00:00:00\n",
      "INFO:root:Sidste dato i datasæt: 2022-03-31 00:00:00\n",
      "INFO:root:Data gemt til C:\\Users\\Kasper Hassing\\Desktop\\Speciale_KryptoSentiment\\data\\market_data\\BTCUSDT_ohlcv.csv\n",
      "INFO:root:Process completed\n"
     ]
    }
   ],
   "source": [
    "import ccxt\n",
    "import pandas as pd\n",
    "import os\n",
    "import logging\n",
    "from datetime import datetime, timedelta\n",
    "\n",
    "# Config\n",
    "COINS = ['BTC/USDT']\n",
    "TIMEFRAME = '1d'\n",
    "START_DATE = '2020-12-01T00:00:00Z'\n",
    "END_DATE = '2022-03-31T23:59:59Z'\n",
    "SAVE_PATH = r'C:\\Users\\Kasper Hassing\\Desktop\\Speciale_KryptoSentiment\\data\\market_data'\n",
    "\n",
    "# Setup\n",
    "exchange = ccxt.binance()\n",
    "logging.basicConfig(level=logging.INFO)\n",
    "os.makedirs(SAVE_PATH, exist_ok=True)\n",
    "\n",
    "def fetch_data():\n",
    "    start_timestamp = exchange.parse8601(START_DATE)\n",
    "    end_timestamp = exchange.parse8601(END_DATE)\n",
    "    extended_end_timestamp = end_timestamp + (24 * 60 * 60 * 1000)  \n",
    "    \n",
    "    for coin in COINS:\n",
    "        all_data = []\n",
    "        current_timestamp = start_timestamp\n",
    "\n",
    "        while current_timestamp <= end_timestamp:\n",
    "            try:\n",
    "                logging.info(f\"Henter data for {coin} fra {datetime.utcfromtimestamp(current_timestamp / 1000)}...\")\n",
    "                ohlcv = exchange.fetch_ohlcv(coin, timeframe=TIMEFRAME, since=current_timestamp, limit=1000)\n",
    "                \n",
    "                if not ohlcv:\n",
    "                    logging.warning(f\"Ingen data for {coin} ved {datetime.utcfromtimestamp(current_timestamp / 1000)}\")\n",
    "                    break\n",
    "                \n",
    "                df = pd.DataFrame(ohlcv, columns=['timestamp', 'open', 'high', 'low', 'close', 'volume'])\n",
    "                df['timestamp'] = pd.to_datetime(df['timestamp'], unit='ms')\n",
    "                all_data.append(df)\n",
    "\n",
    "                # Opdater tidsstempel til næste batch og tjek om det overskrider den udvidede slutdato\n",
    "                next_timestamp = int(df['timestamp'].iloc[-1].timestamp() * 1000) + 1\n",
    "                if next_timestamp > extended_end_timestamp:\n",
    "                    break\n",
    "                current_timestamp = next_timestamp\n",
    "\n",
    "            except Exception as e:\n",
    "                logging.error(f\"Fejl ved {coin}: {str(e)}\")\n",
    "                break\n",
    "        \n",
    "        # Saml alle dataframes og gem som CSV\n",
    "        if all_data:\n",
    "            final_df = pd.concat(all_data, ignore_index=True)\n",
    "            \n",
    "            # Filtrer eventuelle data efter den oprindelige slutdato\n",
    "            final_df = final_df[final_df['timestamp'] <= pd.to_datetime(end_timestamp, unit='ms')]\n",
    "            \n",
    "            final_df[['open', 'high', 'low', 'close']] = final_df[['open', 'high', 'low', 'close']].round(2)\n",
    "            final_df['volume'] = final_df['volume'].round(0)\n",
    "\n",
    "            # Log første og sidste dato for at bekræfte dækning\n",
    "            logging.info(f\"Første dato i datasæt: {final_df['timestamp'].min()}\")\n",
    "            logging.info(f\"Sidste dato i datasæt: {final_df['timestamp'].max()}\")\n",
    "\n",
    "            filename = coin.replace('/', '') + '_ohlcv.csv'\n",
    "            filepath = os.path.join(SAVE_PATH, filename)\n",
    "            final_df.to_csv(filepath, index=False)\n",
    "            logging.info(f\"Data gemt til {filepath}\")\n",
    "        else:\n",
    "            logging.warning(f\"Ingen data at gemme for {coin}\")\n",
    "\n",
    "if __name__ == \"__main__\":\n",
    "    fetch_data()\n",
    "    logging.info(\"Process completed\")"
   ]
  }
 ],
 "metadata": {
  "kernelspec": {
   "display_name": "tf_env",
   "language": "python",
   "name": "python3"
  },
  "language_info": {
   "codemirror_mode": {
    "name": "ipython",
    "version": 3
   },
   "file_extension": ".py",
   "mimetype": "text/x-python",
   "name": "python",
   "nbconvert_exporter": "python",
   "pygments_lexer": "ipython3",
   "version": "3.10.16"
  }
 },
 "nbformat": 4,
 "nbformat_minor": 2
}
