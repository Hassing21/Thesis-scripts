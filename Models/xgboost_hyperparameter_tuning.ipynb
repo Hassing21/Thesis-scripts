{
 "cells": [
  {
   "cell_type": "code",
   "execution_count": null,
   "id": "72860840",
   "metadata": {},
   "outputs": [
    {
     "name": "stdout",
     "output_type": "stream",
     "text": [
      "🔍 Starter tuning af 2000 kombinationer...\n",
      "\n"
     ]
    },
    {
     "name": "stderr",
     "output_type": "stream",
     "text": [
      "100%|██████████| 2000/2000 [02:44<00:00, 12.18it/s]"
     ]
    },
    {
     "name": "stdout",
     "output_type": "stream",
     "text": [
      "\n",
      "🏆 Bedste parametre fundet efter 2000 forsøg (ordnet som din produktionsmodel):\n",
      "\n",
      "params = {\n",
      "    \"objective\": \"reg:squarederror\",\n",
      "    \"learning_rate\": 0.07,\n",
      "    \"max_depth\": 4,\n",
      "    \"min_child_weight\": 1,\n",
      "    \"subsample\": 0.5,\n",
      "    \"colsample_bytree\": 0.6,\n",
      "    \"reg_alpha\": 0.05,\n",
      "    \"reg_lambda\": 0.5,\n",
      "    \"gamma\": 0.0,\n",
      "    \"eval_metric\": \"rmse\",\n",
      "    \"seed\": 42,\n",
      "}\n",
      "\n",
      "✅ RMSE på validering: 0.08539\n",
      "📊 MAE  på validering: 0.07025\n"
     ]
    },
    {
     "name": "stderr",
     "output_type": "stream",
     "text": [
      "\n"
     ]
    }
   ],
   "source": [
    "import pandas as pd\n",
    "import numpy as np\n",
    "import xgboost as xgb\n",
    "from sklearn.model_selection import train_test_split, ParameterSampler\n",
    "from sklearn.metrics import mean_squared_error, mean_absolute_error\n",
    "from tqdm import tqdm\n",
    "\n",
    "DATA_PATH = r\"C:\\Users\\Kasper Hassing\\Desktop\\Speciale_KryptoSentiment\\data\\combined\\BTCUSDT_features_final_sentiment.csv\"\n",
    "TARGET = \"future_return_7d\"\n",
    "N_ITER = 4000 \n",
    "\n",
    "# === Load og forbered data ===\n",
    "df = pd.read_csv(DATA_PATH, parse_dates=[\"timestamp\"])\n",
    "df.set_index(\"timestamp\", inplace=True)\n",
    "feature_cols = [col for col in df.columns if not col.startswith(\"future_return\")]\n",
    "df = df.dropna(subset=feature_cols + [TARGET])\n",
    "X = df[feature_cols]\n",
    "y = df[TARGET]\n",
    "X_train, X_val, y_train, y_val = train_test_split(X, y, test_size=0.2, shuffle=False)\n",
    "\n",
    "# === Para\n",
    "param_dist = {\n",
    "    \"learning_rate\": [0.01, 0.02, 0.03, 0.05, 0.06, 0.07],      \n",
    "    \"max_depth\": [3, 4, 5, 6],                           \n",
    "    \"min_child_weight\": [1, 2, 3],                     \n",
    "    \"subsample\": [0.5, 0.7, 0.8],                          \n",
    "    \"colsample_bytree\": [0.6, 0.7, 0.8],                    \n",
    "    \"gamma\": [0.0, 0.05, 0.1],                          \n",
    "    \"reg_alpha\": [0.01, 0.05, 0.1],                     \n",
    "    \"reg_lambda\": [0.5, 1.0, 1.5]                       \n",
    "}\n",
    "\n",
    "\n",
    "param_samples = list(ParameterSampler(param_dist, n_iter=N_ITER, random_state=42))\n",
    "\n",
    "# === Tracking\n",
    "best_score = float(\"inf\")\n",
    "best_params = None\n",
    "best_mae = None\n",
    "\n",
    "print(f\"🔍 Starter tuning af {N_ITER} kombinationer...\\n\")\n",
    "for params in tqdm(param_samples):\n",
    "    model = xgb.XGBRegressor(\n",
    "        objective=\"reg:squarederror\",\n",
    "        eval_metric=\"rmse\",\n",
    "        n_estimators=1000,\n",
    "        early_stopping_rounds=100,\n",
    "        seed=42,\n",
    "        verbosity=0,\n",
    "        **params\n",
    "    )\n",
    "\n",
    "    model.fit(X_train, y_train, eval_set=[(X_val, y_val)], verbose=False)\n",
    "    preds = model.predict(X_val)\n",
    "    rmse = np.sqrt(mean_squared_error(y_val, preds))\n",
    "    mae = mean_absolute_error(y_val, preds)\n",
    "\n",
    "    if rmse < best_score:\n",
    "        best_score = rmse\n",
    "        best_mae = mae\n",
    "        best_params = params\n",
    "\n",
    "# === Print resultatet i copy-paste format\n",
    "print(\"\\n Best:\\n\")\n",
    "ordered_keys = [\n",
    "    \"objective\", \"learning_rate\", \"max_depth\", \"min_child_weight\",\n",
    "    \"subsample\", \"colsample_bytree\", \"reg_alpha\", \"reg_lambda\", \"gamma\",\n",
    "    \"eval_metric\", \"seed\"\n",
    "]\n",
    "\n",
    "print(\"params = {\")\n",
    "for key in ordered_keys:\n",
    "    if key in best_params:\n",
    "        print(f'    \"{key}\": {best_params[key]},')\n",
    "    elif key == \"objective\":\n",
    "        print('    \"objective\": \"reg:squarederror\",')\n",
    "    elif key == \"eval_metric\":\n",
    "        print('    \"eval_metric\": \"rmse\",')\n",
    "    elif key == \"seed\":\n",
    "        print('    \"seed\": 42,')\n",
    "print(\"}\")\n",
    "print(f\"\\n✅ RMSE på validering: {best_score:.5f}\")\n",
    "print(f\"📊 MAE  på validering: {best_mae:.5f}\")\n",
    "\n"
   ]
  },
  {
   "cell_type": "code",
   "execution_count": null,
   "id": "ae7fd440",
   "metadata": {},
   "outputs": [],
   "source": []
  }
 ],
 "metadata": {
  "kernelspec": {
   "display_name": "tf_env",
   "language": "python",
   "name": "python3"
  },
  "language_info": {
   "codemirror_mode": {
    "name": "ipython",
    "version": 3
   },
   "file_extension": ".py",
   "mimetype": "text/x-python",
   "name": "python",
   "nbconvert_exporter": "python",
   "pygments_lexer": "ipython3",
   "version": "3.10.16"
  }
 },
 "nbformat": 4,
 "nbformat_minor": 5
}
