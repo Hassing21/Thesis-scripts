{
 "cells": [
  {
   "cell_type": "code",
   "execution_count": 4,
   "id": "7a515397",
   "metadata": {},
   "outputs": [
    {
     "name": "stdout",
     "output_type": "stream",
     "text": [
      "📥 Loading dataset...\n",
      "📊 Original tweet count: 13,660,364\n",
      "🧹 Removing empty tweets...\n",
      "🔢 Calculating tweet lengths...\n"
     ]
    },
    {
     "name": "stderr",
     "output_type": "stream",
     "text": [
      "100%|██████████| 13660364/13660364 [00:48<00:00, 284522.51it/s]\n"
     ]
    },
    {
     "name": "stdout",
     "output_type": "stream",
     "text": [
      "🔍 Filtering tweets (10–50 words)...\n",
      "📊 Counting tweets per user per day...\n",
      "\n",
      "📊 Tweet Count Summary\n",
      "---------------------------------\n",
      "Original tweets:   13,660,364\n",
      "After filtering:   11,041,029\n",
      "Removed tweets:    2,619,335 (19.17%)\n",
      "---------------------------------\n",
      "💾 Saved filtered tweets to: C:\\Users\\Kasper Hassing\\Desktop\\Speciale_KryptoSentiment\\data\\twitter_posts\\bitcoin_tweets_cleaned_04.csv\n",
      "📈 Saved top users to:       C:\\Users\\Kasper Hassing\\Desktop\\Speciale_KryptoSentiment\\data\\tweets_posts\\high_volume_users.csv\n"
     ]
    }
   ],
   "source": [
    "import pandas as pd\n",
    "from tqdm import tqdm\n",
    "import os\n",
    "\n",
    "# === File paths ===\n",
    "input_path = r\"C:\\Users\\Kasper Hassing\\Desktop\\Speciale_KryptoSentiment\\data\\twitter_posts\\bitcoin_tweets_cleaned_03.csv\"\n",
    "output_path = r\"C:\\Users\\Kasper Hassing\\Desktop\\Speciale_KryptoSentiment\\data\\twitter_posts\\bitcoin_tweets_cleaned_04.csv\"\n",
    "top_users_path = r\"C:\\Users\\Kasper Hassing\\Desktop\\Speciale_KryptoSentiment\\data\\tweets_posts\\high_volume_users.csv\"\n",
    "\n",
    "# === Ensure output directories exist ===\n",
    "os.makedirs(os.path.dirname(output_path), exist_ok=True)\n",
    "os.makedirs(os.path.dirname(top_users_path), exist_ok=True)\n",
    "\n",
    "# === Load dataset ===\n",
    "print(\"📥 Loading dataset...\")\n",
    "df = pd.read_csv(input_path)\n",
    "original_count = len(df)\n",
    "print(f\"📊 Original tweet count: {original_count:,}\")\n",
    "\n",
    "# === Drop missing or empty text ===\n",
    "print(\"🧹 Removing empty tweets...\")\n",
    "df = df.dropna(subset=[\"text\"])\n",
    "df = df[df[\"text\"].str.strip().ne(\"\")]\n",
    "\n",
    "# === Calculate word count with tqdm progress ===\n",
    "print(\"🔢 Calculating tweet lengths...\")\n",
    "tqdm.pandas()\n",
    "df[\"text_length\"] = df[\"text\"].progress_apply(lambda x: len(str(x).split()))\n",
    "\n",
    "# === Filter tweets with 10–50 words ===\n",
    "print(\"🔍 Filtering tweets (10–50 words)...\")\n",
    "df = df[(df[\"text_length\"] >= 10) & (df[\"text_length\"] <= 50)]\n",
    "filtered_count = len(df)\n",
    "removed_count = original_count - filtered_count\n",
    "removed_pct = removed_count / original_count * 100\n",
    "\n",
    "# === Convert datetime if needed ===\n",
    "df[\"datetime\"] = pd.to_datetime(df[\"datetime\"], utc=True)\n",
    "df[\"date\"] = df[\"datetime\"].dt.date\n",
    "\n",
    "# === Count tweets per user per day ===\n",
    "print(\"📊 Counting tweets per user per day...\")\n",
    "tweet_volume = df.groupby([\"username\", \"date\"]).size().reset_index(name=\"tweets_per_day\")\n",
    "\n",
    "# === Top tweeting users by max tweets/day ===\n",
    "top_users = tweet_volume.groupby(\"username\")[\"tweets_per_day\"].max().sort_values(ascending=False)\n",
    "top_users = top_users.reset_index()\n",
    "top_users.columns = [\"username\", \"max_daily_tweets\"]\n",
    "\n",
    "# === Save results ===\n",
    "top_users.to_csv(top_users_path, index=False)\n",
    "df.to_csv(output_path, index=False)\n",
    "\n",
    "# === Summary ===\n",
    "print(\"\\n📊 Tweet Count Summary\")\n",
    "print(\"---------------------------------\")\n",
    "print(f\"Original tweets:   {original_count:,}\")\n",
    "print(f\"After filtering:   {filtered_count:,}\")\n",
    "print(f\"Removed tweets:    {removed_count:,} ({removed_pct:.2f}%)\")\n",
    "print(\"---------------------------------\")\n",
    "print(f\"💾 Saved filtered tweets to: {output_path}\")\n",
    "print(f\"📈 Saved top users to:       {top_users_path}\")\n"
   ]
  }
 ],
 "metadata": {
  "kernelspec": {
   "display_name": "tf_env",
   "language": "python",
   "name": "python3"
  },
  "language_info": {
   "codemirror_mode": {
    "name": "ipython",
    "version": 3
   },
   "file_extension": ".py",
   "mimetype": "text/x-python",
   "name": "python",
   "nbconvert_exporter": "python",
   "pygments_lexer": "ipython3",
   "version": "3.10.16"
  }
 },
 "nbformat": 4,
 "nbformat_minor": 5
}
