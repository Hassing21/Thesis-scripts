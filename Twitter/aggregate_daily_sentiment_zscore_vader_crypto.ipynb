{
 "cells": [
  {
   "cell_type": "code",
   "execution_count": 5,
   "id": "f52cca50",
   "metadata": {},
   "outputs": [
    {
     "name": "stdout",
     "output_type": "stream",
     "text": [
      "Indlæser data...\n",
      "\n",
      "=== Daglige mean scores og z-scores ===\n",
      "     datetime  vader_mean  crypto_sentiment_mean  vader_z_score  \\\n",
      "0  2021-01-01    0.209540               0.276097       2.011645   \n",
      "1  2021-01-02    0.153608               0.223652       0.118564   \n",
      "2  2021-01-03    0.178616               0.240651       0.964998   \n",
      "3  2021-01-04    0.154299               0.214820       0.141952   \n",
      "4  2021-01-05    0.167595               0.241652       0.591971   \n",
      "\n",
      "   crypto_sentiment_z_score  \n",
      "0                  1.600790  \n",
      "1                  0.288864  \n",
      "2                  0.714089  \n",
      "3                  0.067923  \n",
      "4                  0.739137  \n",
      "\n",
      "✅ Fil gemt som: C:\\Users\\Kasper Hassing\\Desktop\\Speciale_KryptoSentiment\\data\\twitter_posts\\bitcoin_tweets_cleaned_21_vadercrypto_14month_final.csv\n"
     ]
    }
   ],
   "source": [
    "import pandas as pd\n",
    "from scipy.stats import zscore\n",
    "\n",
    "# Filstier\n",
    "input_path = r\"c:\\Users\\Kasper Hassing\\Desktop\\Speciale_KryptoSentiment\\data\\twitter_posts\\bitcoin_tweets_cleaned_20_vadercrypto_14month.csv\"\n",
    "output_path = r\"C:\\Users\\Kasper Hassing\\Desktop\\Speciale_KryptoSentiment\\data\\twitter_posts\\bitcoin_tweets_cleaned_21_vadercrypto_14month_final.csv\"\n",
    "\n",
    "# Trin 1: Indlæs data\n",
    "print(\"Indlæser data...\")\n",
    "data = pd.read_csv(input_path)\n",
    "\n",
    "# Trin 2: Konverter datetime-kolonnen til datoformat (uden klokkeslæt)\n",
    "data['datetime'] = pd.to_datetime(data['datetime']).dt.date\n",
    "\n",
    "# Trin 3: Beregn daglige mean scores for både VADER og Crypto Sentiment\n",
    "daily_means = data.groupby('datetime').agg(\n",
    "    vader_mean=('vader_sentiment_score', 'mean'),\n",
    "    crypto_sentiment_mean=('crypto_sentiment_score', 'mean')\n",
    ").reset_index()\n",
    "\n",
    "# Trin 4: Beregn globalt gennemsnit og standardafvigelse for begge scores\n",
    "vader_mean_global = daily_means['vader_mean'].mean()\n",
    "vader_std_global = daily_means['vader_mean'].std()\n",
    "crypto_mean_global = daily_means['crypto_sentiment_mean'].mean()\n",
    "crypto_std_global = daily_means['crypto_sentiment_mean'].std()\n",
    "\n",
    "# Trin 5: Beregn z-scoren manuelt for hver dags mean score\n",
    "daily_means['vader_z_score'] = (daily_means['vader_mean'] - vader_mean_global) / vader_std_global\n",
    "daily_means['crypto_sentiment_z_score'] = (daily_means['crypto_sentiment_mean'] - crypto_mean_global) / crypto_std_global\n",
    "\n",
    "# Trin 6: Gem resultatet i en ny CSV-fil\n",
    "daily_means.to_csv(output_path, index=False)\n",
    "\n",
    "# Udskriv et par rækker som kontrol\n",
    "print(\"\\n=== Daglige mean scores og z-scores ===\")\n",
    "print(daily_means.head())\n",
    "print(f\"\\n✅ Fil gemt som: {output_path}\")\n"
   ]
  }
 ],
 "metadata": {
  "kernelspec": {
   "display_name": "tf_env",
   "language": "python",
   "name": "python3"
  },
  "language_info": {
   "codemirror_mode": {
    "name": "ipython",
    "version": 3
   },
   "file_extension": ".py",
   "mimetype": "text/x-python",
   "name": "python",
   "nbconvert_exporter": "python",
   "pygments_lexer": "ipython3",
   "version": "3.10.16"
  }
 },
 "nbformat": 4,
 "nbformat_minor": 5
}
