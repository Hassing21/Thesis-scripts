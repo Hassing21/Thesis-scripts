{
 "cells": [
  {
   "cell_type": "code",
   "execution_count": null,
   "id": "734c758b",
   "metadata": {},
   "outputs": [
    {
     "name": "stdout",
     "output_type": "stream",
     "text": [
      "Antal tweets før filtrering: 10864787\n"
     ]
    },
    {
     "name": "stderr",
     "output_type": "stream",
     "text": [
      "Filtrerer tweets: 100%|███████████████████████████ | 10864787/10864787 [100.00%]\n"
     ]
    },
    {
     "name": "stdout",
     "output_type": "stream",
     "text": [
      "\n",
      "Antal tweets efter filtrering: 10102567\n",
      "Filtreret data gemt til: C:\\Users\\Kasper Hassing\\Desktop\\Speciale_KryptoSentiment\\data\\twitter_posts\\bitcoin_tweets_cleaned_06_filtered.csv\n"
     ]
    }
   ],
   "source": [
    "import pandas as pd\n",
    "import re\n",
    "from collections import Counter\n",
    "from tqdm import tqdm\n",
    "\n",
    "path = r\"C:\\Users\\Kasper Hassing\\Desktop\\Speciale_KryptoSentiment\\data\\twitter_posts\\bitcoin_tweets_cleaned_06.csv\"\n",
    "\n",
    "df = pd.read_csv(path)\n",
    "print(f\"Antal tweets før filtrering: {len(df)}\")\n",
    "\n",
    "# === DEFINÉR FILTERFUNKTIONER ===\n",
    "def has_few_unique_words(text, threshold=5):\n",
    "    words = set(re.findall(r'\\b\\w+\\b', str(text).lower()))\n",
    "    return len(words) < threshold\n",
    "\n",
    "def has_low_lexical_diversity(text, threshold=0.4):\n",
    "    words = re.findall(r'\\b\\w+\\b', str(text).lower())\n",
    "    return not words or (len(set(words)) / len(words)) <= threshold\n",
    "\n",
    "def has_repeated_words(text, max_repeats=3):\n",
    "    words = re.findall(r'\\b\\w+\\b', str(text).lower())\n",
    "    return any(count > max_repeats for count in Counter(words).values())\n",
    "\n",
    "def is_only_links_and_mentions(text):\n",
    "    cleaned = re.sub(r\"(https?://\\S+|@\\w+)\", \"\", str(text)).strip()\n",
    "    return cleaned == \"\"\n",
    "\n",
    "# === FILTRERING MED PROGRESS BAR OG PROCENT ===\n",
    "filtered_rows = []\n",
    "total = len(df)\n",
    "# Tilpas bar_format til at vise procent med 2 decimaler\n",
    "bar_fmt = '{l_bar}{bar} | {n_fmt}/{total_fmt} [{percentage:.2f}%]'\n",
    "\n",
    "for _, row in tqdm(df.iterrows(),\n",
    "                   total=total,\n",
    "                   desc=\"Filtrerer tweets\",\n",
    "                   bar_format=bar_fmt,\n",
    "                   ncols=80):\n",
    "    text = row['text']\n",
    "    if (\n",
    "        not has_few_unique_words(text)\n",
    "        and not has_low_lexical_diversity(text)\n",
    "        and not has_repeated_words(text)\n",
    "        and not is_only_links_and_mentions(text)\n",
    "    ):\n",
    "        filtered_rows.append(row)\n",
    "\n",
    "filtered_df = pd.DataFrame(filtered_rows)\n",
    "\n",
    "# === GEMMER FILTRERET DATA ===\n",
    "output_path = path.replace(\".csv\", \"_filtered.csv\")\n",
    "filtered_df.to_csv(output_path, index=False)\n",
    "\n",
    "# === RESULTAT ===\n",
    "print(f\"\\nAntal tweets efter filtrering: {len(filtered_df)}\")\n",
    "print(f\"Filtreret data gemt til: {output_path}\")\n"
   ]
  }
 ],
 "metadata": {
  "kernelspec": {
   "display_name": "tf_env",
   "language": "python",
   "name": "python3"
  },
  "language_info": {
   "codemirror_mode": {
    "name": "ipython",
    "version": 3
   },
   "file_extension": ".py",
   "mimetype": "text/x-python",
   "name": "python",
   "nbconvert_exporter": "python",
   "pygments_lexer": "ipython3",
   "version": "3.10.16"
  }
 },
 "nbformat": 4,
 "nbformat_minor": 5
}
