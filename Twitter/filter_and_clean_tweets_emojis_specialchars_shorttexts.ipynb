{
 "cells": [
  {
   "cell_type": "code",
   "execution_count": 1,
   "id": "f2ec0cd0",
   "metadata": {},
   "outputs": [
    {
     "name": "stdout",
     "output_type": "stream",
     "text": [
      "Requirement already satisfied: tqdm in c:\\users\\kasper hassing\\anaconda3\\envs\\tf_env\\lib\\site-packages (4.67.1)\n",
      "Collecting emoji\n",
      "  Downloading emoji-2.14.1-py3-none-any.whl.metadata (5.7 kB)\n",
      "Requirement already satisfied: colorama in c:\\users\\kasper hassing\\anaconda3\\envs\\tf_env\\lib\\site-packages (from tqdm) (0.4.6)\n",
      "Downloading emoji-2.14.1-py3-none-any.whl (590 kB)\n",
      "   ---------------------------------------- 0.0/590.6 kB ? eta -:--:--\n",
      "   --------------------------------------- 590.6/590.6 kB 10.6 MB/s eta 0:00:00\n",
      "Installing collected packages: emoji\n",
      "Successfully installed emoji-2.14.1\n",
      "Note: you may need to restart the kernel to use updated packages.\n"
     ]
    }
   ],
   "source": [
    "pip install tqdm emoji\n"
   ]
  },
  {
   "cell_type": "code",
   "execution_count": null,
   "id": "7eb57fb4",
   "metadata": {},
   "outputs": [
    {
     "name": "stderr",
     "output_type": "stream",
     "text": [
      "Rensning af tweets: 100%|██████████| 8323049/8323049 [15:58<00:00, 8680.81it/s] \n",
      "C:\\Users\\Kasper Hassing\\AppData\\Local\\Temp\\ipykernel_15556\\1807181994.py:29: SettingWithCopyWarning: \n",
      "A value is trying to be set on a copy of a slice from a DataFrame.\n",
      "Try using .loc[row_indexer,col_indexer] = value instead\n",
      "\n",
      "See the caveats in the documentation: https://pandas.pydata.org/pandas-docs/stable/user_guide/indexing.html#returning-a-view-versus-a-copy\n",
      "  df_filtered['text_clean_renset'] = df_filtered['text_clean'].progress_apply(clean_text)\n"
     ]
    },
    {
     "name": "stdout",
     "output_type": "stream",
     "text": [
      "Antal tweets før rensning: 9003625\n",
      "Antal tweets efter rensning: 8323049\n",
      "                    datetime        username  \\\n",
      "0  2021-01-01 00:00:02+00:00    BTCMEXGlobal   \n",
      "2  2021-01-01 00:00:03+00:00        Bitstamp   \n",
      "3  2021-01-01 00:00:03+00:00  BitcoinAverage   \n",
      "4  2021-01-01 00:00:04+00:00             WSJ   \n",
      "5  2021-01-01 00:00:07+00:00    JeremyKissel   \n",
      "\n",
      "                                          text_clean  word_count  \\\n",
      "0  now is utc on jan 🎇 btcmex hereby wishes every...          31   \n",
      "2  happy new year everybody! what an explosive ye...          16   \n",
      "3  bitcoinaverage - bitcoin price index - ($ ) - ...          10   \n",
      "4  high fees and volatility present obstacles to ...          34   \n",
      "5  ethereum posts % gain in beats bitcoin | finan...          10   \n",
      "\n",
      "                                   text_clean_renset  \n",
      "0  now is utc on jan btcmex hereby wishes every u...  \n",
      "2  happy new year everybody what an explosive yea...  \n",
      "3         bitcoinaverage bitcoin price index bitcoin  \n",
      "4  high fees and volatility present obstacles to ...  \n",
      "5  ethereum posts gain in beats bitcoin finance m...  \n"
     ]
    }
   ],
   "source": [
    "import pandas as pd\n",
    "import re\n",
    "import emoji\n",
    "from tqdm import tqdm  \n",
    "import numpy as np\n",
    "\n",
    "df = pd.read_csv(r\"C:\\Users\\Kasper Hassing\\Desktop\\Speciale_KryptoSentiment\\data\\twitter_posts\\bitcoin_tweets_cleaned_12.csv\")\n",
    "\n",
    "# Tjek for NaN-værdier i tekstkolonnen og fjern rækker med NaN\n",
    "df = df.dropna(subset=['text_clean'])\n",
    "\n",
    "# Fjern tweets med færre end 10 ord\n",
    "df['word_count'] = df['text_clean'].apply(lambda x: len(str(x).split()))\n",
    "df_filtered = df[df['word_count'] >= 10]\n",
    "\n",
    "# Funktion til at rense teksten (fjern emojis, specialtegn og tal)\n",
    "def clean_text(text):\n",
    "    # Fjern emojis\n",
    "    text = emoji.replace_emoji(text, replace='')  \n",
    "    # Fjern ikke-alfabetiske tegn (behold kun ord)\n",
    "    text = re.sub(r'[^a-zA-Z\\s]', '', text)\n",
    "    # Fjern ekstra mellemrum\n",
    "    text = re.sub(r'\\s+', ' ', text).strip()\n",
    "    return text\n",
    "\n",
    "# Anvend tekstrensningen på alle tweets og opret en ny kolonne 'text_clean_renset'\n",
    "tqdm.pandas(desc=\"Rensning af tweets\")  # Progress bar setup\n",
    "df_filtered['text_clean_renset'] = df_filtered['text_clean'].progress_apply(clean_text)\n",
    "\n",
    "# Tjek antal tweets før og efter rensning\n",
    "print(f\"Antal tweets før rensning: {len(df)}\")\n",
    "print(f\"Antal tweets efter rensning: {len(df_filtered)}\")\n",
    "\n",
    "# Gem de rensede tweets i den ønskede mappe\n",
    "output_path = r'C:\\Users\\Kasper Hassing\\Desktop\\Speciale_KryptoSentiment\\data\\twitter_posts\\bitcoin_tweets_cleaned_13.csv'\n",
    "df_filtered.to_csv(output_path, index=False)\n",
    "\n",
    "print(df_filtered.head())\n"
   ]
  }
 ],
 "metadata": {
  "kernelspec": {
   "display_name": "tf_env",
   "language": "python",
   "name": "python3"
  },
  "language_info": {
   "codemirror_mode": {
    "name": "ipython",
    "version": 3
   },
   "file_extension": ".py",
   "mimetype": "text/x-python",
   "name": "python",
   "nbconvert_exporter": "python",
   "pygments_lexer": "ipython3",
   "version": "3.10.16"
  }
 },
 "nbformat": 4,
 "nbformat_minor": 5
}
